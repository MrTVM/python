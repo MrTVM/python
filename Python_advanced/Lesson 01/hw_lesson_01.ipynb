{
 "cells": [
  {
   "cell_type": "markdown",
   "metadata": {},
   "source": [
    "1. Каждое из слов «разработка», «сокет», «декоратор» представить в строковом формате и проверить тип и содержание соответствующих переменных. Затем с помощью онлайн-конвертера преобразовать строковые представление в формат Unicode и также проверить тип и содержимое переменных."
   ]
  },
  {
   "cell_type": "code",
   "execution_count": 1,
   "metadata": {},
   "outputs": [],
   "source": [
    "development = 'разработка'"
   ]
  },
  {
   "cell_type": "code",
   "execution_count": 2,
   "metadata": {},
   "outputs": [
    {
     "data": {
      "text/plain": [
       "'разработка'"
      ]
     },
     "execution_count": 2,
     "metadata": {},
     "output_type": "execute_result"
    }
   ],
   "source": [
    "development"
   ]
  },
  {
   "cell_type": "code",
   "execution_count": 3,
   "metadata": {},
   "outputs": [
    {
     "data": {
      "text/plain": [
       "str"
      ]
     },
     "execution_count": 3,
     "metadata": {},
     "output_type": "execute_result"
    }
   ],
   "source": [
    "type(development)"
   ]
  },
  {
   "cell_type": "code",
   "execution_count": 4,
   "metadata": {},
   "outputs": [],
   "source": [
    "soket = 'сокет'"
   ]
  },
  {
   "cell_type": "code",
   "execution_count": 5,
   "metadata": {},
   "outputs": [
    {
     "name": "stdout",
     "output_type": "stream",
     "text": [
      "сокет <class 'str'>\n"
     ]
    }
   ],
   "source": [
    "print(soket, type(soket))"
   ]
  },
  {
   "cell_type": "code",
   "execution_count": 6,
   "metadata": {},
   "outputs": [],
   "source": [
    "decorator = 'декоратор'"
   ]
  },
  {
   "cell_type": "code",
   "execution_count": 7,
   "metadata": {},
   "outputs": [
    {
     "name": "stdout",
     "output_type": "stream",
     "text": [
      "декоратор <class 'str'>\n"
     ]
    }
   ],
   "source": [
    "print(decorator, type(decorator))"
   ]
  },
  {
   "cell_type": "code",
   "execution_count": 8,
   "metadata": {},
   "outputs": [],
   "source": [
    "development = '\\u0440\\u0430\\u0437\\u0440\\u0430\\u0431\\u043e\\u0442\\u043a\\u0430'"
   ]
  },
  {
   "cell_type": "code",
   "execution_count": 9,
   "metadata": {},
   "outputs": [
    {
     "name": "stdout",
     "output_type": "stream",
     "text": [
      "разработка <class 'str'>\n"
     ]
    }
   ],
   "source": [
    "print(development, type(development))"
   ]
  },
  {
   "cell_type": "code",
   "execution_count": 10,
   "metadata": {},
   "outputs": [],
   "source": [
    "soket = '\\u0441\\u043e\\u043a\\u0435\\u0442'"
   ]
  },
  {
   "cell_type": "code",
   "execution_count": 11,
   "metadata": {},
   "outputs": [
    {
     "name": "stdout",
     "output_type": "stream",
     "text": [
      "сокет <class 'str'>\n"
     ]
    }
   ],
   "source": [
    "print(soket, type(soket))"
   ]
  },
  {
   "cell_type": "code",
   "execution_count": 12,
   "metadata": {},
   "outputs": [],
   "source": [
    "decorator = '\\u0434\\u0435\\u043a\\u043e\\u0440\\u0430\\u0442\\u043e\\u0440'"
   ]
  },
  {
   "cell_type": "code",
   "execution_count": 13,
   "metadata": {},
   "outputs": [
    {
     "name": "stdout",
     "output_type": "stream",
     "text": [
      "декоратор <class 'str'>\n"
     ]
    }
   ],
   "source": [
    "print(decorator, type(decorator))"
   ]
  },
  {
   "cell_type": "markdown",
   "metadata": {},
   "source": [
    "2. Каждое из слов «class», «function», «method» записать в байтовом типе без преобразования в последовательность кодов (не используя методы encode и decode) и определить тип, содержимое и длину соответствующих переменных."
   ]
  },
  {
   "cell_type": "code",
   "execution_count": 14,
   "metadata": {},
   "outputs": [
    {
     "name": "stdout",
     "output_type": "stream",
     "text": [
      "b'class'\n"
     ]
    }
   ],
   "source": [
    "bword_class = b'class'\n",
    "print(bword_class)"
   ]
  },
  {
   "cell_type": "code",
   "execution_count": 15,
   "metadata": {},
   "outputs": [
    {
     "data": {
      "text/plain": [
       "bytes"
      ]
     },
     "execution_count": 15,
     "metadata": {},
     "output_type": "execute_result"
    }
   ],
   "source": [
    "type(bword_class)"
   ]
  },
  {
   "cell_type": "code",
   "execution_count": 16,
   "metadata": {},
   "outputs": [
    {
     "data": {
      "text/plain": [
       "5"
      ]
     },
     "execution_count": 16,
     "metadata": {},
     "output_type": "execute_result"
    }
   ],
   "source": [
    "len(bword_class)"
   ]
  },
  {
   "cell_type": "code",
   "execution_count": 17,
   "metadata": {},
   "outputs": [
    {
     "name": "stdout",
     "output_type": "stream",
     "text": [
      "b'function'\n"
     ]
    }
   ],
   "source": [
    "bword_function = b'function'\n",
    "print(bword_function)"
   ]
  },
  {
   "cell_type": "code",
   "execution_count": 18,
   "metadata": {},
   "outputs": [
    {
     "data": {
      "text/plain": [
       "bytes"
      ]
     },
     "execution_count": 18,
     "metadata": {},
     "output_type": "execute_result"
    }
   ],
   "source": [
    "type(bword_class)"
   ]
  },
  {
   "cell_type": "code",
   "execution_count": 19,
   "metadata": {},
   "outputs": [
    {
     "data": {
      "text/plain": [
       "8"
      ]
     },
     "execution_count": 19,
     "metadata": {},
     "output_type": "execute_result"
    }
   ],
   "source": [
    "len(bword_function)"
   ]
  },
  {
   "cell_type": "code",
   "execution_count": 20,
   "metadata": {},
   "outputs": [
    {
     "name": "stdout",
     "output_type": "stream",
     "text": [
      "b'method'\n"
     ]
    }
   ],
   "source": [
    "bword_method = b'method'\n",
    "print(bword_method)"
   ]
  },
  {
   "cell_type": "code",
   "execution_count": 21,
   "metadata": {},
   "outputs": [
    {
     "data": {
      "text/plain": [
       "bytes"
      ]
     },
     "execution_count": 21,
     "metadata": {},
     "output_type": "execute_result"
    }
   ],
   "source": [
    "type(bword_method)"
   ]
  },
  {
   "cell_type": "code",
   "execution_count": 22,
   "metadata": {},
   "outputs": [
    {
     "data": {
      "text/plain": [
       "6"
      ]
     },
     "execution_count": 22,
     "metadata": {},
     "output_type": "execute_result"
    }
   ],
   "source": [
    "len(bword_method)"
   ]
  },
  {
   "cell_type": "markdown",
   "metadata": {},
   "source": [
    "3. Определить, какие из слов «attribute», «класс», «функция», «type» невозможно записать в байтовом типе."
   ]
  },
  {
   "cell_type": "code",
   "execution_count": 23,
   "metadata": {},
   "outputs": [
    {
     "data": {
      "text/plain": [
       "b'attribute'"
      ]
     },
     "execution_count": 23,
     "metadata": {},
     "output_type": "execute_result"
    }
   ],
   "source": [
    "b'attribute'"
   ]
  },
  {
   "cell_type": "code",
   "execution_count": 24,
   "metadata": {},
   "outputs": [
    {
     "ename": "SyntaxError",
     "evalue": "bytes can only contain ASCII literal characters. (<ipython-input-24-1892bb037e5c>, line 1)",
     "output_type": "error",
     "traceback": [
      "\u001b[1;36m  File \u001b[1;32m\"<ipython-input-24-1892bb037e5c>\"\u001b[1;36m, line \u001b[1;32m1\u001b[0m\n\u001b[1;33m    b'класс'\u001b[0m\n\u001b[1;37m            ^\u001b[0m\n\u001b[1;31mSyntaxError\u001b[0m\u001b[1;31m:\u001b[0m bytes can only contain ASCII literal characters.\n"
     ]
    }
   ],
   "source": [
    "b'класс'"
   ]
  },
  {
   "cell_type": "code",
   "execution_count": 25,
   "metadata": {},
   "outputs": [
    {
     "ename": "SyntaxError",
     "evalue": "bytes can only contain ASCII literal characters. (<ipython-input-25-469398a5f59d>, line 1)",
     "output_type": "error",
     "traceback": [
      "\u001b[1;36m  File \u001b[1;32m\"<ipython-input-25-469398a5f59d>\"\u001b[1;36m, line \u001b[1;32m1\u001b[0m\n\u001b[1;33m    b'функция'\u001b[0m\n\u001b[1;37m              ^\u001b[0m\n\u001b[1;31mSyntaxError\u001b[0m\u001b[1;31m:\u001b[0m bytes can only contain ASCII literal characters.\n"
     ]
    }
   ],
   "source": [
    "b'функция'"
   ]
  },
  {
   "cell_type": "code",
   "execution_count": 53,
   "metadata": {},
   "outputs": [
    {
     "data": {
      "text/plain": [
       "b'type'"
      ]
     },
     "execution_count": 53,
     "metadata": {},
     "output_type": "execute_result"
    }
   ],
   "source": [
    "b'type'"
   ]
  },
  {
   "cell_type": "markdown",
   "metadata": {},
   "source": [
    "4. Преобразовать слова «разработка», «администрирование», «protocol», «standard» из строкового представления в байтовое и выполнить обратное преобразование (используя методы encode и decode)."
   ]
  },
  {
   "cell_type": "code",
   "execution_count": 26,
   "metadata": {},
   "outputs": [],
   "source": [
    "development = 'разработка'"
   ]
  },
  {
   "cell_type": "code",
   "execution_count": 27,
   "metadata": {},
   "outputs": [
    {
     "data": {
      "text/plain": [
       "b'\\xd1\\x80\\xd0\\xb0\\xd0\\xb7\\xd1\\x80\\xd0\\xb0\\xd0\\xb1\\xd0\\xbe\\xd1\\x82\\xd0\\xba\\xd0\\xb0'"
      ]
     },
     "execution_count": 27,
     "metadata": {},
     "output_type": "execute_result"
    }
   ],
   "source": [
    "development.encode('utf-8')"
   ]
  },
  {
   "cell_type": "code",
   "execution_count": 28,
   "metadata": {},
   "outputs": [
    {
     "data": {
      "text/plain": [
       "b'\\xd1\\x80\\xd0\\xb0\\xd0\\xb7\\xd1\\x80\\xd0\\xb0\\xd0\\xb1\\xd0\\xbe\\xd1\\x82\\xd0\\xba\\xd0\\xb0'"
      ]
     },
     "execution_count": 28,
     "metadata": {},
     "output_type": "execute_result"
    }
   ],
   "source": [
    "development_bytes = development.encode('utf-8')\n",
    "development_bytes"
   ]
  },
  {
   "cell_type": "code",
   "execution_count": 29,
   "metadata": {},
   "outputs": [
    {
     "data": {
      "text/plain": [
       "'разработка'"
      ]
     },
     "execution_count": 29,
     "metadata": {},
     "output_type": "execute_result"
    }
   ],
   "source": [
    "development_bytes.decode('utf-8')"
   ]
  },
  {
   "cell_type": "code",
   "execution_count": 30,
   "metadata": {},
   "outputs": [],
   "source": [
    "administration = 'администрирование'"
   ]
  },
  {
   "cell_type": "code",
   "execution_count": 31,
   "metadata": {},
   "outputs": [
    {
     "data": {
      "text/plain": [
       "b'\\xd0\\xb0\\xd0\\xb4\\xd0\\xbc\\xd0\\xb8\\xd0\\xbd\\xd0\\xb8\\xd1\\x81\\xd1\\x82\\xd1\\x80\\xd0\\xb8\\xd1\\x80\\xd0\\xbe\\xd0\\xb2\\xd0\\xb0\\xd0\\xbd\\xd0\\xb8\\xd0\\xb5'"
      ]
     },
     "execution_count": 31,
     "metadata": {},
     "output_type": "execute_result"
    }
   ],
   "source": [
    "administration.encode('utf-8')"
   ]
  },
  {
   "cell_type": "code",
   "execution_count": 32,
   "metadata": {},
   "outputs": [
    {
     "data": {
      "text/plain": [
       "b'\\xd0\\xb0\\xd0\\xb4\\xd0\\xbc\\xd0\\xb8\\xd0\\xbd\\xd0\\xb8\\xd1\\x81\\xd1\\x82\\xd1\\x80\\xd0\\xb8\\xd1\\x80\\xd0\\xbe\\xd0\\xb2\\xd0\\xb0\\xd0\\xbd\\xd0\\xb8\\xd0\\xb5'"
      ]
     },
     "execution_count": 32,
     "metadata": {},
     "output_type": "execute_result"
    }
   ],
   "source": [
    "administration_bytes = administration.encode('utf-8')\n",
    "administration_bytes"
   ]
  },
  {
   "cell_type": "code",
   "execution_count": 33,
   "metadata": {},
   "outputs": [
    {
     "data": {
      "text/plain": [
       "'администрирование'"
      ]
     },
     "execution_count": 33,
     "metadata": {},
     "output_type": "execute_result"
    }
   ],
   "source": [
    "administration_bytes.decode('utf-8')"
   ]
  },
  {
   "cell_type": "code",
   "execution_count": 34,
   "metadata": {},
   "outputs": [],
   "source": [
    "protocol = 'protocol'"
   ]
  },
  {
   "cell_type": "code",
   "execution_count": 35,
   "metadata": {},
   "outputs": [
    {
     "data": {
      "text/plain": [
       "b'protocol'"
      ]
     },
     "execution_count": 35,
     "metadata": {},
     "output_type": "execute_result"
    }
   ],
   "source": [
    "protocol.encode('utf-8')"
   ]
  },
  {
   "cell_type": "code",
   "execution_count": 36,
   "metadata": {},
   "outputs": [
    {
     "data": {
      "text/plain": [
       "b'protocol'"
      ]
     },
     "execution_count": 36,
     "metadata": {},
     "output_type": "execute_result"
    }
   ],
   "source": [
    "protocol_bytes = protocol.encode('utf-8')\n",
    "protocol_bytes"
   ]
  },
  {
   "cell_type": "code",
   "execution_count": 37,
   "metadata": {},
   "outputs": [
    {
     "data": {
      "text/plain": [
       "'protocol'"
      ]
     },
     "execution_count": 37,
     "metadata": {},
     "output_type": "execute_result"
    }
   ],
   "source": [
    "protocol_bytes.decode('utf-8')"
   ]
  },
  {
   "cell_type": "code",
   "execution_count": 38,
   "metadata": {},
   "outputs": [],
   "source": [
    "standard = 'standard'"
   ]
  },
  {
   "cell_type": "code",
   "execution_count": 39,
   "metadata": {},
   "outputs": [
    {
     "data": {
      "text/plain": [
       "b'standard'"
      ]
     },
     "execution_count": 39,
     "metadata": {},
     "output_type": "execute_result"
    }
   ],
   "source": [
    "standard.encode('utf-8')"
   ]
  },
  {
   "cell_type": "code",
   "execution_count": 40,
   "metadata": {},
   "outputs": [
    {
     "data": {
      "text/plain": [
       "b'standard'"
      ]
     },
     "execution_count": 40,
     "metadata": {},
     "output_type": "execute_result"
    }
   ],
   "source": [
    "standard_bytes = standard.encode('utf-8')\n",
    "standard_bytes"
   ]
  },
  {
   "cell_type": "code",
   "execution_count": 41,
   "metadata": {},
   "outputs": [
    {
     "data": {
      "text/plain": [
       "'standard'"
      ]
     },
     "execution_count": 41,
     "metadata": {},
     "output_type": "execute_result"
    }
   ],
   "source": [
    "standard_bytes.decode('utf-8')"
   ]
  },
  {
   "cell_type": "markdown",
   "metadata": {},
   "source": [
    "5. Выполнить пинг веб-ресурсов yandex.ru, youtube.com и преобразовать результаты из байтовового в строковый тип на кириллице."
   ]
  },
  {
   "cell_type": "code",
   "execution_count": 42,
   "metadata": {},
   "outputs": [],
   "source": [
    "import subprocess"
   ]
  },
  {
   "cell_type": "code",
   "execution_count": 43,
   "metadata": {},
   "outputs": [
    {
     "data": {
      "text/plain": [
       "b'\\r\\n\\x8e\\xa1\\xac\\xa5\\xad \\xaf\\xa0\\xaa\\xa5\\xe2\\xa0\\xac\\xa8 \\xe1 yandex.ru [2a02:6b8:a::a] \\xe1 32 \\xa1\\xa0\\xa9\\xe2\\xa0\\xac\\xa8 \\xa4\\xa0\\xad\\xad\\xeb\\xe5:\\r\\n\\x8e\\xe2\\xa2\\xa5\\xe2 \\xae\\xe2 2a02:6b8:a::a: \\xa2\\xe0\\xa5\\xac\\xef=16\\xac\\xe1 \\r\\n\\x8e\\xe2\\xa2\\xa5\\xe2 \\xae\\xe2 2a02:6b8:a::a: \\xa2\\xe0\\xa5\\xac\\xef=17\\xac\\xe1 \\r\\n\\x8e\\xe2\\xa2\\xa5\\xe2 \\xae\\xe2 2a02:6b8:a::a: \\xa2\\xe0\\xa5\\xac\\xef=16\\xac\\xe1 \\r\\n\\x8e\\xe2\\xa2\\xa5\\xe2 \\xae\\xe2 2a02:6b8:a::a: \\xa2\\xe0\\xa5\\xac\\xef=17\\xac\\xe1 \\r\\n\\r\\n\\x91\\xe2\\xa0\\xe2\\xa8\\xe1\\xe2\\xa8\\xaa\\xa0 Ping \\xa4\\xab\\xef 2a02:6b8:a::a:\\r\\n    \\x8f\\xa0\\xaa\\xa5\\xe2\\xae\\xa2: \\xae\\xe2\\xaf\\xe0\\xa0\\xa2\\xab\\xa5\\xad\\xae = 4, \\xaf\\xae\\xab\\xe3\\xe7\\xa5\\xad\\xae = 4, \\xaf\\xae\\xe2\\xa5\\xe0\\xef\\xad\\xae = 0\\r\\n    (0% \\xaf\\xae\\xe2\\xa5\\xe0\\xec)\\r\\n\\x8f\\xe0\\xa8\\xa1\\xab\\xa8\\xa7\\xa8\\xe2\\xa5\\xab\\xec\\xad\\xae\\xa5 \\xa2\\xe0\\xa5\\xac\\xef \\xaf\\xe0\\xa8\\xa5\\xac\\xa0-\\xaf\\xa5\\xe0\\xa5\\xa4\\xa0\\xe7\\xa8 \\xa2 \\xac\\xe1:\\r\\n    \\x8c\\xa8\\xad\\xa8\\xac\\xa0\\xab\\xec\\xad\\xae\\xa5 = 16\\xac\\xe1\\xa5\\xaa, \\x8c\\xa0\\xaa\\xe1\\xa8\\xac\\xa0\\xab\\xec\\xad\\xae\\xa5 = 17 \\xac\\xe1\\xa5\\xaa, \\x91\\xe0\\xa5\\xa4\\xad\\xa5\\xa5 = 16 \\xac\\xe1\\xa5\\xaa\\r\\n'"
      ]
     },
     "execution_count": 43,
     "metadata": {},
     "output_type": "execute_result"
    }
   ],
   "source": [
    "result = subprocess.run(['ping', 'yandex.ru'], stdout=subprocess.PIPE)\n",
    "result.stdout"
   ]
  },
  {
   "cell_type": "code",
   "execution_count": 44,
   "metadata": {},
   "outputs": [],
   "source": [
    "import chardet"
   ]
  },
  {
   "cell_type": "code",
   "execution_count": 45,
   "metadata": {},
   "outputs": [
    {
     "data": {
      "text/plain": [
       "{'encoding': 'IBM866', 'confidence': 0.970996202204345, 'language': 'Russian'}"
      ]
     },
     "execution_count": 45,
     "metadata": {},
     "output_type": "execute_result"
    }
   ],
   "source": [
    "chardet.detect(result.stdout)"
   ]
  },
  {
   "cell_type": "code",
   "execution_count": 46,
   "metadata": {},
   "outputs": [
    {
     "name": "stdout",
     "output_type": "stream",
     "text": [
      "\r\n",
      "Обмен пакетами с yandex.ru [2a02:6b8:a::a] с 32 байтами данных:\r\n",
      "Ответ от 2a02:6b8:a::a: время=16мс \r\n",
      "Ответ от 2a02:6b8:a::a: время=17мс \r\n",
      "Ответ от 2a02:6b8:a::a: время=16мс \r\n",
      "Ответ от 2a02:6b8:a::a: время=17мс \r\n",
      "\r\n",
      "Статистика Ping для 2a02:6b8:a::a:\r\n",
      "    Пакетов: отправлено = 4, получено = 4, потеряно = 0\r\n",
      "    (0% потерь)\r\n",
      "Приблизительное время приема-передачи в мс:\r\n",
      "    Минимальное = 16мсек, Максимальное = 17 мсек, Среднее = 16 мсек\r\n",
      "\n"
     ]
    }
   ],
   "source": [
    "output = result.stdout.decode('IBM866')\n",
    "print(output)"
   ]
  },
  {
   "cell_type": "code",
   "execution_count": 47,
   "metadata": {},
   "outputs": [
    {
     "data": {
      "text/plain": [
       "b'\\r\\n\\x8e\\xa1\\xac\\xa5\\xad \\xaf\\xa0\\xaa\\xa5\\xe2\\xa0\\xac\\xa8 \\xe1 youtube.com [2a00:1450:4010:c0b::be] \\xe1 32 \\xa1\\xa0\\xa9\\xe2\\xa0\\xac\\xa8 \\xa4\\xa0\\xad\\xad\\xeb\\xe5:\\r\\n\\x8e\\xe2\\xa2\\xa5\\xe2 \\xae\\xe2 2a00:1450:4010:c0b::be: \\xa2\\xe0\\xa5\\xac\\xef=7\\xac\\xe1 \\r\\n\\x8e\\xe2\\xa2\\xa5\\xe2 \\xae\\xe2 2a00:1450:4010:c0b::be: \\xa2\\xe0\\xa5\\xac\\xef=9\\xac\\xe1 \\r\\n\\x8e\\xe2\\xa2\\xa5\\xe2 \\xae\\xe2 2a00:1450:4010:c0b::be: \\xa2\\xe0\\xa5\\xac\\xef=7\\xac\\xe1 \\r\\n\\x8e\\xe2\\xa2\\xa5\\xe2 \\xae\\xe2 2a00:1450:4010:c0b::be: \\xa2\\xe0\\xa5\\xac\\xef=6\\xac\\xe1 \\r\\n\\r\\n\\x91\\xe2\\xa0\\xe2\\xa8\\xe1\\xe2\\xa8\\xaa\\xa0 Ping \\xa4\\xab\\xef 2a00:1450:4010:c0b::be:\\r\\n    \\x8f\\xa0\\xaa\\xa5\\xe2\\xae\\xa2: \\xae\\xe2\\xaf\\xe0\\xa0\\xa2\\xab\\xa5\\xad\\xae = 4, \\xaf\\xae\\xab\\xe3\\xe7\\xa5\\xad\\xae = 4, \\xaf\\xae\\xe2\\xa5\\xe0\\xef\\xad\\xae = 0\\r\\n    (0% \\xaf\\xae\\xe2\\xa5\\xe0\\xec)\\r\\n\\x8f\\xe0\\xa8\\xa1\\xab\\xa8\\xa7\\xa8\\xe2\\xa5\\xab\\xec\\xad\\xae\\xa5 \\xa2\\xe0\\xa5\\xac\\xef \\xaf\\xe0\\xa8\\xa5\\xac\\xa0-\\xaf\\xa5\\xe0\\xa5\\xa4\\xa0\\xe7\\xa8 \\xa2 \\xac\\xe1:\\r\\n    \\x8c\\xa8\\xad\\xa8\\xac\\xa0\\xab\\xec\\xad\\xae\\xa5 = 6\\xac\\xe1\\xa5\\xaa, \\x8c\\xa0\\xaa\\xe1\\xa8\\xac\\xa0\\xab\\xec\\xad\\xae\\xa5 = 9 \\xac\\xe1\\xa5\\xaa, \\x91\\xe0\\xa5\\xa4\\xad\\xa5\\xa5 = 7 \\xac\\xe1\\xa5\\xaa\\r\\n'"
      ]
     },
     "execution_count": 47,
     "metadata": {},
     "output_type": "execute_result"
    }
   ],
   "source": [
    "result = subprocess.run(['ping', 'youtube.com'], stdout=subprocess.PIPE)\n",
    "result.stdout"
   ]
  },
  {
   "cell_type": "code",
   "execution_count": 48,
   "metadata": {},
   "outputs": [
    {
     "data": {
      "text/plain": [
       "{'encoding': 'IBM866', 'confidence': 0.970996202204345, 'language': 'Russian'}"
      ]
     },
     "execution_count": 48,
     "metadata": {},
     "output_type": "execute_result"
    }
   ],
   "source": [
    "chardet.detect(result.stdout)"
   ]
  },
  {
   "cell_type": "code",
   "execution_count": 49,
   "metadata": {},
   "outputs": [
    {
     "name": "stdout",
     "output_type": "stream",
     "text": [
      "\r\n",
      "Обмен пакетами с youtube.com [2a00:1450:4010:c0b::be] с 32 байтами данных:\r\n",
      "Ответ от 2a00:1450:4010:c0b::be: время=7мс \r\n",
      "Ответ от 2a00:1450:4010:c0b::be: время=9мс \r\n",
      "Ответ от 2a00:1450:4010:c0b::be: время=7мс \r\n",
      "Ответ от 2a00:1450:4010:c0b::be: время=6мс \r\n",
      "\r\n",
      "Статистика Ping для 2a00:1450:4010:c0b::be:\r\n",
      "    Пакетов: отправлено = 4, получено = 4, потеряно = 0\r\n",
      "    (0% потерь)\r\n",
      "Приблизительное время приема-передачи в мс:\r\n",
      "    Минимальное = 6мсек, Максимальное = 9 мсек, Среднее = 7 мсек\r\n",
      "\n"
     ]
    }
   ],
   "source": [
    "output = result.stdout.decode('IBM866')\n",
    "print(output)"
   ]
  },
  {
   "cell_type": "markdown",
   "metadata": {},
   "source": [
    "6. Создать текстовый файл test_file.txt, заполнить его тремя строками: «сетевое программирование», «сокет», «декоратор». Проверить кодировку файла по умолчанию. Принудительно открыть файл в формате Unicode и вывести его содержимое."
   ]
  },
  {
   "cell_type": "code",
   "execution_count": 50,
   "metadata": {},
   "outputs": [],
   "source": [
    "with open('test_file.txt', 'w') as f:\n",
    "    my_list = ['сетевое программирование', 'сокет', 'декоратор']\n",
    "    f.writelines('\\n'.join(my_list))\n",
    "    f.close"
   ]
  },
  {
   "cell_type": "code",
   "execution_count": 51,
   "metadata": {},
   "outputs": [
    {
     "data": {
      "text/plain": [
       "<_io.TextIOWrapper name='test_file.txt' mode='r' encoding='cp1251'>"
      ]
     },
     "execution_count": 51,
     "metadata": {},
     "output_type": "execute_result"
    }
   ],
   "source": [
    "f = open('test_file.txt')\n",
    "f"
   ]
  },
  {
   "cell_type": "code",
   "execution_count": 52,
   "metadata": {},
   "outputs": [
    {
     "ename": "UnicodeDecodeError",
     "evalue": "'utf-8' codec can't decode byte 0xf1 in position 0: invalid continuation byte",
     "output_type": "error",
     "traceback": [
      "\u001b[1;31m---------------------------------------------------------------------------\u001b[0m",
      "\u001b[1;31mUnicodeDecodeError\u001b[0m                        Traceback (most recent call last)",
      "\u001b[1;32m<ipython-input-52-2b9d6f59bd35>\u001b[0m in \u001b[0;36m<module>\u001b[1;34m\u001b[0m\n\u001b[0;32m      1\u001b[0m \u001b[1;32mwith\u001b[0m \u001b[0mopen\u001b[0m\u001b[1;33m(\u001b[0m\u001b[1;34m'test_file.txt'\u001b[0m\u001b[1;33m,\u001b[0m \u001b[0mencoding\u001b[0m\u001b[1;33m=\u001b[0m\u001b[1;34m'utf-8'\u001b[0m\u001b[1;33m)\u001b[0m \u001b[1;32mas\u001b[0m \u001b[0mf\u001b[0m\u001b[1;33m:\u001b[0m\u001b[1;33m\u001b[0m\u001b[1;33m\u001b[0m\u001b[0m\n\u001b[1;32m----> 2\u001b[1;33m        \u001b[1;32mfor\u001b[0m \u001b[0mline\u001b[0m \u001b[1;32min\u001b[0m \u001b[0mf\u001b[0m\u001b[1;33m:\u001b[0m\u001b[1;33m\u001b[0m\u001b[1;33m\u001b[0m\u001b[0m\n\u001b[0m\u001b[0;32m      3\u001b[0m            \u001b[0mprint\u001b[0m\u001b[1;33m(\u001b[0m\u001b[0mline\u001b[0m\u001b[1;33m,\u001b[0m \u001b[0mend\u001b[0m\u001b[1;33m=\u001b[0m\u001b[1;34m''\u001b[0m\u001b[1;33m)\u001b[0m\u001b[1;33m\u001b[0m\u001b[1;33m\u001b[0m\u001b[0m\n\u001b[0;32m      4\u001b[0m        \u001b[0mf\u001b[0m\u001b[1;33m.\u001b[0m\u001b[0mclose\u001b[0m\u001b[1;33m\u001b[0m\u001b[1;33m\u001b[0m\u001b[0m\n",
      "\u001b[1;32md:\\python project\\advanced\\lesson 01\\venv\\lib\\codecs.py\u001b[0m in \u001b[0;36mdecode\u001b[1;34m(self, input, final)\u001b[0m\n\u001b[0;32m    320\u001b[0m         \u001b[1;31m# decode input (taking the buffer into account)\u001b[0m\u001b[1;33m\u001b[0m\u001b[1;33m\u001b[0m\u001b[1;33m\u001b[0m\u001b[0m\n\u001b[0;32m    321\u001b[0m         \u001b[0mdata\u001b[0m \u001b[1;33m=\u001b[0m \u001b[0mself\u001b[0m\u001b[1;33m.\u001b[0m\u001b[0mbuffer\u001b[0m \u001b[1;33m+\u001b[0m \u001b[0minput\u001b[0m\u001b[1;33m\u001b[0m\u001b[1;33m\u001b[0m\u001b[0m\n\u001b[1;32m--> 322\u001b[1;33m         \u001b[1;33m(\u001b[0m\u001b[0mresult\u001b[0m\u001b[1;33m,\u001b[0m \u001b[0mconsumed\u001b[0m\u001b[1;33m)\u001b[0m \u001b[1;33m=\u001b[0m \u001b[0mself\u001b[0m\u001b[1;33m.\u001b[0m\u001b[0m_buffer_decode\u001b[0m\u001b[1;33m(\u001b[0m\u001b[0mdata\u001b[0m\u001b[1;33m,\u001b[0m \u001b[0mself\u001b[0m\u001b[1;33m.\u001b[0m\u001b[0merrors\u001b[0m\u001b[1;33m,\u001b[0m \u001b[0mfinal\u001b[0m\u001b[1;33m)\u001b[0m\u001b[1;33m\u001b[0m\u001b[1;33m\u001b[0m\u001b[0m\n\u001b[0m\u001b[0;32m    323\u001b[0m         \u001b[1;31m# keep undecoded input until the next call\u001b[0m\u001b[1;33m\u001b[0m\u001b[1;33m\u001b[0m\u001b[1;33m\u001b[0m\u001b[0m\n\u001b[0;32m    324\u001b[0m         \u001b[0mself\u001b[0m\u001b[1;33m.\u001b[0m\u001b[0mbuffer\u001b[0m \u001b[1;33m=\u001b[0m \u001b[0mdata\u001b[0m\u001b[1;33m[\u001b[0m\u001b[0mconsumed\u001b[0m\u001b[1;33m:\u001b[0m\u001b[1;33m]\u001b[0m\u001b[1;33m\u001b[0m\u001b[1;33m\u001b[0m\u001b[0m\n",
      "\u001b[1;31mUnicodeDecodeError\u001b[0m: 'utf-8' codec can't decode byte 0xf1 in position 0: invalid continuation byte"
     ]
    }
   ],
   "source": [
    " with open('test_file.txt', encoding='utf-8') as f:\n",
    "        for line in f:\n",
    "            print(line, end='')\n",
    "        f.close"
   ]
  },
  {
   "cell_type": "code",
   "execution_count": 54,
   "metadata": {},
   "outputs": [
    {
     "name": "stdout",
     "output_type": "stream",
     "text": [
      "сетевое программирование\n",
      "сокет\n",
      "декоратор"
     ]
    }
   ],
   "source": [
    " with open('test_file.txt', encoding='cp1251') as f:\n",
    "        for line in f:\n",
    "            print(line, end='')\n",
    "        f.close"
   ]
  }
 ],
 "metadata": {
  "kernelspec": {
   "display_name": "Python 3",
   "language": "python",
   "name": "python3"
  },
  "language_info": {
   "codemirror_mode": {
    "name": "ipython",
    "version": 3
   },
   "file_extension": ".py",
   "mimetype": "text/x-python",
   "name": "python",
   "nbconvert_exporter": "python",
   "pygments_lexer": "ipython3",
   "version": "3.7.2"
  }
 },
 "nbformat": 4,
 "nbformat_minor": 2
}
