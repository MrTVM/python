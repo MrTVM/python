{
 "cells": [
  {
   "cell_type": "markdown",
   "metadata": {},
   "source": [
    "1. Реализовать скрипт для чтения/записи данных в формате csv;"
   ]
  },
  {
   "cell_type": "code",
   "execution_count": 17,
   "metadata": {},
   "outputs": [],
   "source": [
    "with open('data/exam.csv', 'rb') as file:\n",
    "    output = file.read()"
   ]
  },
  {
   "cell_type": "code",
   "execution_count": 18,
   "metadata": {},
   "outputs": [],
   "source": [
    "import chardet"
   ]
  },
  {
   "cell_type": "code",
   "execution_count": 19,
   "metadata": {},
   "outputs": [
    {
     "data": {
      "text/plain": [
       "{'encoding': 'IBM866', 'confidence': 0.9521028151758074, 'language': 'Russian'}"
      ]
     },
     "execution_count": 19,
     "metadata": {},
     "output_type": "execute_result"
    }
   ],
   "source": [
    "chardet.detect(output)"
   ]
  },
  {
   "cell_type": "code",
   "execution_count": 6,
   "metadata": {},
   "outputs": [],
   "source": [
    "import csv"
   ]
  },
  {
   "cell_type": "code",
   "execution_count": 13,
   "metadata": {},
   "outputs": [
    {
     "name": "stdout",
     "output_type": "stream",
     "text": [
      "['Изготовитель системы', 'Название ОС', 'Код продукта', 'Тип системы']\n",
      "['Microsoft Corporation', 'Microsoft Windows 7 Профессиональная', '00971-OEM-1982661-00231', 'x64-based PC']\n",
      "['Microsoft Corporation', 'Microsoft Windows 10 Professional', '00971-OEM-1982661-00231', 'x64-based PC']\n",
      "['Microsoft Corporation', 'Microsoft Windows 8.1 Professional', '00971-OEM-1982661-00231', 'x86-based PC']\n"
     ]
    }
   ],
   "source": [
    "with open('data/exam.csv', encoding='IBM866') as file:\n",
    "    reader = csv.reader(file, delimiter=';')\n",
    "    output = []\n",
    "    for row in reader:\n",
    "        output.append(row)\n",
    "        print(row)"
   ]
  },
  {
   "cell_type": "code",
   "execution_count": 14,
   "metadata": {},
   "outputs": [],
   "source": [
    "with open('data/write.csv', 'w') as file:\n",
    "    writer = csv.writer(file)\n",
    "    for row in output:\n",
    "        writer.writerow(row)"
   ]
  },
  {
   "cell_type": "code",
   "execution_count": 15,
   "metadata": {},
   "outputs": [
    {
     "name": "stdout",
     "output_type": "stream",
     "text": [
      "['Изготовитель системы', 'Название ОС', 'Код продукта', 'Тип системы']\n",
      "[]\n",
      "['Microsoft Corporation', 'Microsoft Windows 7 Профессиональная', '00971-OEM-1982661-00231', 'x64-based PC']\n",
      "[]\n",
      "['Microsoft Corporation', 'Microsoft Windows 10 Professional', '00971-OEM-1982661-00231', 'x64-based PC']\n",
      "[]\n",
      "['Microsoft Corporation', 'Microsoft Windows 8.1 Professional', '00971-OEM-1982661-00231', 'x86-based PC']\n",
      "[]\n"
     ]
    }
   ],
   "source": [
    "with open('data/write.csv') as file:\n",
    "    reader = csv.reader(file)\n",
    "    for row in reader:\n",
    "        print(row)"
   ]
  },
  {
   "cell_type": "markdown",
   "metadata": {},
   "source": [
    "2. Реализовать скрипт для чтения/записи данных в формате json;"
   ]
  },
  {
   "cell_type": "code",
   "execution_count": 30,
   "metadata": {},
   "outputs": [
    {
     "name": "stdout",
     "output_type": "stream",
     "text": [
      "{'orders': []}\n"
     ]
    }
   ],
   "source": [
    "import json\n",
    "\n",
    "\n",
    "with open('data/orders.json') as file:\n",
    "    print(json.load(file))"
   ]
  },
  {
   "cell_type": "code",
   "execution_count": 33,
   "metadata": {},
   "outputs": [],
   "source": [
    "data = [\n",
    "    {'orders': [{'item': 'item1', 'quantity': 123, 'price': 100, 'buyer': 'buyer', 'date': '2019-04-12'},\n",
    "    {'item': 'item2', 'quantity': 123, 'price': 200, 'buyer': 'buyer', 'date': '2019-04-13'}]}\n",
    "]"
   ]
  },
  {
   "cell_type": "code",
   "execution_count": 35,
   "metadata": {},
   "outputs": [],
   "source": [
    "with open('data/write.json', 'w') as file:\n",
    "    json.dump(data, file, indent=2, sort_keys=True)"
   ]
  },
  {
   "cell_type": "markdown",
   "metadata": {},
   "source": [
    "3. Реализовать скрипт для чтения/записи данных в формате yaml;"
   ]
  },
  {
   "cell_type": "code",
   "execution_count": 38,
   "metadata": {},
   "outputs": [],
   "source": [
    "import yaml"
   ]
  },
  {
   "cell_type": "code",
   "execution_count": 3,
   "metadata": {},
   "outputs": [],
   "source": [
    "raw_data = {\n",
    "    'attr1': ['value1', 'value2', 'value3'], \n",
    "    'attr2': 123, \n",
    "    'attr3': {36: 10, 64: 'value'}, \n",
    "}\n",
    "\n",
    "with open('data/write.yml', 'w') as file:\n",
    "    yaml.dump(raw_data, file, Dumper=yaml.Dumper)"
   ]
  },
  {
   "cell_type": "code",
   "execution_count": 4,
   "metadata": {},
   "outputs": [
    {
     "name": "stdout",
     "output_type": "stream",
     "text": [
      "{'attr1': ['value1', 'value2', 'value3'], 'attr2': 123, 'attr3': {36: 10, 64: 'value'}}\n"
     ]
    }
   ],
   "source": [
    "with open('data/write.yml') as file:\n",
    "    print(yaml.load(file, Loader=yaml.Loader))"
   ]
  },
  {
   "cell_type": "markdown",
   "metadata": {},
   "source": [
    "4. Реализовать скрипт для преобразования данных в формате csv в формат json;"
   ]
  },
  {
   "cell_type": "code",
   "execution_count": 34,
   "metadata": {},
   "outputs": [
    {
     "name": "stdout",
     "output_type": "stream",
     "text": [
      "{'Изготовитель системы': 'Microsoft Corporation', 'Название ОС': 'Microsoft Windows 7 Профессиональная', 'Код продукта': '00971-OEM-1982661-00231', 'Тип системы': 'x64-based PC'}\n",
      "{'Изготовитель системы': 'Microsoft Corporation', 'Название ОС': 'Microsoft Windows 10 Professional', 'Код продукта': '00971-OEM-1982661-00231', 'Тип системы': 'x64-based PC'}\n",
      "{'Изготовитель системы': 'Microsoft Corporation', 'Название ОС': 'Microsoft Windows 8.1 Professional', 'Код продукта': '00971-OEM-1982661-00231', 'Тип системы': 'x86-based PC'}\n"
     ]
    }
   ],
   "source": [
    "data = []\n",
    "with open('data/exam.csv', encoding='IBM866') as file:\n",
    "    reader = csv.DictReader(file, delimiter=';')\n",
    "    for row in reader:\n",
    "        data.append(dict(row))\n",
    "        print(dict(row))"
   ]
  },
  {
   "cell_type": "code",
   "execution_count": 35,
   "metadata": {},
   "outputs": [
    {
     "data": {
      "text/plain": [
       "[{'Изготовитель системы': 'Microsoft Corporation',\n",
       "  'Название ОС': 'Microsoft Windows 7 Профессиональная',\n",
       "  'Код продукта': '00971-OEM-1982661-00231',\n",
       "  'Тип системы': 'x64-based PC'},\n",
       " {'Изготовитель системы': 'Microsoft Corporation',\n",
       "  'Название ОС': 'Microsoft Windows 10 Professional',\n",
       "  'Код продукта': '00971-OEM-1982661-00231',\n",
       "  'Тип системы': 'x64-based PC'},\n",
       " {'Изготовитель системы': 'Microsoft Corporation',\n",
       "  'Название ОС': 'Microsoft Windows 8.1 Professional',\n",
       "  'Код продукта': '00971-OEM-1982661-00231',\n",
       "  'Тип системы': 'x86-based PC'}]"
      ]
     },
     "execution_count": 35,
     "metadata": {},
     "output_type": "execute_result"
    }
   ],
   "source": [
    "data"
   ]
  },
  {
   "cell_type": "code",
   "execution_count": 20,
   "metadata": {},
   "outputs": [],
   "source": [
    "import json"
   ]
  },
  {
   "cell_type": "code",
   "execution_count": 36,
   "metadata": {},
   "outputs": [],
   "source": [
    "with open('data/csv_to_json.json', 'w') as file:\n",
    "    json.dump(data, file, indent=2, sort_keys=True)"
   ]
  },
  {
   "cell_type": "code",
   "execution_count": 37,
   "metadata": {},
   "outputs": [
    {
     "name": "stdout",
     "output_type": "stream",
     "text": [
      "[{'Изготовитель системы': 'Microsoft Corporation', 'Код продукта': '00971-OEM-1982661-00231', 'Название ОС': 'Microsoft Windows 7 Профессиональная', 'Тип системы': 'x64-based PC'}, {'Изготовитель системы': 'Microsoft Corporation', 'Код продукта': '00971-OEM-1982661-00231', 'Название ОС': 'Microsoft Windows 10 Professional', 'Тип системы': 'x64-based PC'}, {'Изготовитель системы': 'Microsoft Corporation', 'Код продукта': '00971-OEM-1982661-00231', 'Название ОС': 'Microsoft Windows 8.1 Professional', 'Тип системы': 'x86-based PC'}]\n"
     ]
    }
   ],
   "source": [
    "with open('data/csv_to_json.json') as file:\n",
    "    print(json.load(file))"
   ]
  },
  {
   "cell_type": "markdown",
   "metadata": {},
   "source": [
    "5. Реализовать скрипт для преобразования данных в формате csv в формат yaml;"
   ]
  },
  {
   "cell_type": "code",
   "execution_count": 44,
   "metadata": {},
   "outputs": [],
   "source": [
    "field = ['Изготовитель системы', 'Название ОС', 'Код продукта', 'Тип системы']\n",
    "my_dict = {}\n",
    "my_list = []\n",
    "with open('data/exam.csv', encoding='IBM866') as file:\n",
    "    reader = csv.DictReader(file, delimiter=';')\n",
    "    for val in field:\n",
    "        for row in reader:\n",
    "            my_list.append(row.get(val))\n",
    "        my_dict.update({val: my_list})"
   ]
  },
  {
   "cell_type": "code",
   "execution_count": 45,
   "metadata": {},
   "outputs": [
    {
     "data": {
      "text/plain": [
       "{'Изготовитель системы': ['Microsoft Corporation',\n",
       "  'Microsoft Corporation',\n",
       "  'Microsoft Corporation'],\n",
       " 'Название ОС': ['Microsoft Corporation',\n",
       "  'Microsoft Corporation',\n",
       "  'Microsoft Corporation'],\n",
       " 'Код продукта': ['Microsoft Corporation',\n",
       "  'Microsoft Corporation',\n",
       "  'Microsoft Corporation'],\n",
       " 'Тип системы': ['Microsoft Corporation',\n",
       "  'Microsoft Corporation',\n",
       "  'Microsoft Corporation']}"
      ]
     },
     "execution_count": 45,
     "metadata": {},
     "output_type": "execute_result"
    }
   ],
   "source": [
    "my_dict"
   ]
  },
  {
   "cell_type": "code",
   "execution_count": 46,
   "metadata": {},
   "outputs": [],
   "source": [
    "with open('data/write_csv_to_yaml.yml', 'w') as file:\n",
    "    yaml.dump(my_dict, file, Dumper=yaml.Dumper)"
   ]
  },
  {
   "cell_type": "code",
   "execution_count": 47,
   "metadata": {},
   "outputs": [
    {
     "name": "stdout",
     "output_type": "stream",
     "text": [
      "{'Изготовитель системы': ['Microsoft Corporation', 'Microsoft Corporation', 'Microsoft Corporation'], 'Код продукта': ['Microsoft Corporation', 'Microsoft Corporation', 'Microsoft Corporation'], 'Название ОС': ['Microsoft Corporation', 'Microsoft Corporation', 'Microsoft Corporation'], 'Тип системы': ['Microsoft Corporation', 'Microsoft Corporation', 'Microsoft Corporation']}\n"
     ]
    }
   ],
   "source": [
    "with open('data/write_csv_to_yaml.yml') as file:\n",
    "    print(yaml.load(file, Loader=yaml.Loader))"
   ]
  },
  {
   "cell_type": "markdown",
   "metadata": {},
   "source": [
    "6. Реализовать скрипт для преобразования данных в формате json в формат yaml."
   ]
  },
  {
   "cell_type": "code",
   "execution_count": 51,
   "metadata": {},
   "outputs": [],
   "source": [
    "with open('data/csv_to_json.json') as file:\n",
    "    output_data = json.load(file)"
   ]
  },
  {
   "cell_type": "code",
   "execution_count": 52,
   "metadata": {},
   "outputs": [
    {
     "data": {
      "text/plain": [
       "[{'Изготовитель системы': 'Microsoft Corporation',\n",
       "  'Код продукта': '00971-OEM-1982661-00231',\n",
       "  'Название ОС': 'Microsoft Windows 7 Профессиональная',\n",
       "  'Тип системы': 'x64-based PC'},\n",
       " {'Изготовитель системы': 'Microsoft Corporation',\n",
       "  'Код продукта': '00971-OEM-1982661-00231',\n",
       "  'Название ОС': 'Microsoft Windows 10 Professional',\n",
       "  'Тип системы': 'x64-based PC'},\n",
       " {'Изготовитель системы': 'Microsoft Corporation',\n",
       "  'Код продукта': '00971-OEM-1982661-00231',\n",
       "  'Название ОС': 'Microsoft Windows 8.1 Professional',\n",
       "  'Тип системы': 'x86-based PC'}]"
      ]
     },
     "execution_count": 52,
     "metadata": {},
     "output_type": "execute_result"
    }
   ],
   "source": [
    "output_data"
   ]
  },
  {
   "cell_type": "code",
   "execution_count": 62,
   "metadata": {},
   "outputs": [
    {
     "name": "stdout",
     "output_type": "stream",
     "text": [
      "['Microsoft Corporation', 'Microsoft Corporation', 'Microsoft Corporation']\n",
      "['Microsoft Windows 7 Профессиональная', 'Microsoft Windows 10 Professional', 'Microsoft Windows 8.1 Professional']\n",
      "['00971-OEM-1982661-00231', '00971-OEM-1982661-00231', '00971-OEM-1982661-00231']\n",
      "['x64-based PC', 'x64-based PC', 'x86-based PC']\n"
     ]
    }
   ],
   "source": [
    "field = ['Изготовитель системы', 'Название ОС', 'Код продукта', 'Тип системы']\n",
    "my_dict = {}\n",
    "for name in field:\n",
    "    my_list = []\n",
    "    for row in output_data:\n",
    "        my_list.append(row.get(name))\n",
    "    my_dict.update({name: my_list})\n",
    "    print(my_list)"
   ]
  },
  {
   "cell_type": "code",
   "execution_count": 63,
   "metadata": {},
   "outputs": [
    {
     "data": {
      "text/plain": [
       "{'Изготовитель системы': ['Microsoft Corporation',\n",
       "  'Microsoft Corporation',\n",
       "  'Microsoft Corporation'],\n",
       " 'Название ОС': ['Microsoft Windows 7 Профессиональная',\n",
       "  'Microsoft Windows 10 Professional',\n",
       "  'Microsoft Windows 8.1 Professional'],\n",
       " 'Код продукта': ['00971-OEM-1982661-00231',\n",
       "  '00971-OEM-1982661-00231',\n",
       "  '00971-OEM-1982661-00231'],\n",
       " 'Тип системы': ['x64-based PC', 'x64-based PC', 'x86-based PC']}"
      ]
     },
     "execution_count": 63,
     "metadata": {},
     "output_type": "execute_result"
    }
   ],
   "source": [
    "my_dict"
   ]
  },
  {
   "cell_type": "code",
   "execution_count": 64,
   "metadata": {},
   "outputs": [],
   "source": [
    "with open('data/write_json_to_yaml.yml', 'w') as file:\n",
    "    yaml.dump(my_dict, file, Dumper=yaml.Dumper)"
   ]
  },
  {
   "cell_type": "code",
   "execution_count": 65,
   "metadata": {},
   "outputs": [
    {
     "name": "stdout",
     "output_type": "stream",
     "text": [
      "{'Изготовитель системы': ['Microsoft Corporation', 'Microsoft Corporation', 'Microsoft Corporation'], 'Код продукта': ['00971-OEM-1982661-00231', '00971-OEM-1982661-00231', '00971-OEM-1982661-00231'], 'Название ОС': ['Microsoft Windows 7 Профессиональная', 'Microsoft Windows 10 Professional', 'Microsoft Windows 8.1 Professional'], 'Тип системы': ['x64-based PC', 'x64-based PC', 'x86-based PC']}\n"
     ]
    }
   ],
   "source": [
    "with open('data/write_json_to_yaml.yml') as file:\n",
    "    print(yaml.load(file, Loader=yaml.Loader))"
   ]
  }
 ],
 "metadata": {
  "kernelspec": {
   "display_name": "Python 3",
   "language": "python",
   "name": "python3"
  },
  "language_info": {
   "codemirror_mode": {
    "name": "ipython",
    "version": 3
   },
   "file_extension": ".py",
   "mimetype": "text/x-python",
   "name": "python",
   "nbconvert_exporter": "python",
   "pygments_lexer": "ipython3",
   "version": "3.7.2"
  }
 },
 "nbformat": 4,
 "nbformat_minor": 2
}
